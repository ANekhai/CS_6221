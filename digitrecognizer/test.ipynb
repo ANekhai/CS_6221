{
 "cells": [
  {
   "cell_type": "code",
   "execution_count": 11,
   "metadata": {},
   "outputs": [],
   "source": [
    "from PIL import Image\n",
    "import numpy as np \n",
    "\n",
    "img_width, img_height = 10, 10"
   ]
  },
  {
   "cell_type": "code",
   "execution_count": 23,
   "metadata": {},
   "outputs": [],
   "source": [
    "def transform():\n",
    "    \"\"\"\n",
    "        Transforms the .png output image by converting it to greyscale, \n",
    "        8-bit image, and then rescaling it to the same size as in the NN. \n",
    "        It then converts it to a numpy array. \n",
    "    \"\"\"\n",
    "    # read parsed image back in 8-bit, black and white mode (L), and resize\n",
    "    img = Image.open('output.png').convert('L').resize((img_width, img_height))\n",
    "    # convert Image object to numpy array\n",
    "    img_numpy = np.array(img)\n",
    "    # reshape image data for use in neural network\n",
    "    # img_final = img_numpy.reshape(1,img_width,img_height,1)\n",
    "\n",
    "    return img_numpy"
   ]
  },
  {
   "cell_type": "code",
   "execution_count": 24,
   "metadata": {},
   "outputs": [],
   "source": [
    "img = transform()"
   ]
  },
  {
   "cell_type": "code",
   "execution_count": 25,
   "metadata": {},
   "outputs": [
    {
     "output_type": "execute_result",
     "data": {
      "text/plain": "(10, 10)"
     },
     "metadata": {},
     "execution_count": 25
    }
   ],
   "source": [
    "img.shape"
   ]
  },
  {
   "cell_type": "code",
   "execution_count": 26,
   "metadata": {},
   "outputs": [
    {
     "output_type": "execute_result",
     "data": {
      "text/plain": "array([[255, 255, 255, 255, 255, 255, 255, 255, 255, 255],\n       [255, 255, 255, 247, 246, 254, 255, 255, 255, 255],\n       [255, 255, 255, 207, 185, 203, 255, 255, 255, 255],\n       [255, 255, 255, 255, 243, 198, 255, 255, 255, 255],\n       [255, 255, 255, 255, 240, 199, 255, 255, 255, 255],\n       [255, 255, 255, 255, 233, 205, 255, 255, 255, 255],\n       [255, 255, 255, 232, 144, 183, 193, 192, 191, 205],\n       [255, 255, 245, 186, 216, 243, 250, 252, 251, 244],\n       [255, 255, 255, 255, 255, 255, 255, 255, 255, 255],\n       [255, 255, 255, 255, 255, 255, 255, 255, 255, 255]], dtype=uint8)"
     },
     "metadata": {},
     "execution_count": 26
    }
   ],
   "source": [
    "img"
   ]
  },
  {
   "cell_type": "code",
   "execution_count": 27,
   "metadata": {},
   "outputs": [
    {
     "output_type": "execute_result",
     "data": {
      "text/plain": "[[255, 255, 255, 255, 255, 255, 255, 255, 255, 255],\n [255, 255, 255, 247, 246, 254, 255, 255, 255, 255],\n [255, 255, 255, 207, 185, 203, 255, 255, 255, 255],\n [255, 255, 255, 255, 243, 198, 255, 255, 255, 255],\n [255, 255, 255, 255, 240, 199, 255, 255, 255, 255],\n [255, 255, 255, 255, 233, 205, 255, 255, 255, 255],\n [255, 255, 255, 232, 144, 183, 193, 192, 191, 205],\n [255, 255, 245, 186, 216, 243, 250, 252, 251, 244],\n [255, 255, 255, 255, 255, 255, 255, 255, 255, 255],\n [255, 255, 255, 255, 255, 255, 255, 255, 255, 255]]"
     },
     "metadata": {},
     "execution_count": 27
    }
   ],
   "source": [
    "img.tolist()"
   ]
  },
  {
   "cell_type": "code",
   "execution_count": null,
   "metadata": {},
   "outputs": [],
   "source": []
  }
 ],
 "metadata": {
  "language_info": {
   "codemirror_mode": {
    "name": "ipython",
    "version": 3
   },
   "file_extension": ".py",
   "mimetype": "text/x-python",
   "name": "python",
   "nbconvert_exporter": "python",
   "pygments_lexer": "ipython3",
   "version": "3.7.3-final"
  },
  "orig_nbformat": 2,
  "kernelspec": {
   "name": "python3",
   "display_name": "Python 3"
  }
 },
 "nbformat": 4,
 "nbformat_minor": 2
}