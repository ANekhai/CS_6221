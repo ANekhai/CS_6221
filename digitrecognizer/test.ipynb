{
 "cells": [
  {
   "cell_type": "code",
   "execution_count": 11,
   "metadata": {},
   "outputs": [],
   "source": [
    "from PIL import Image\n",
    "import numpy as np \n",
    "\n",
    "img_width, img_height = 10, 10"
   ]
  },
  {
   "cell_type": "code",
   "execution_count": 50,
   "metadata": {},
   "outputs": [],
   "source": [
    "def transform():\n",
    "    \"\"\"\n",
    "        Transforms the .png output image by converting it to greyscale, \n",
    "        8-bit image, and then rescaling it to the same size as in the NN. \n",
    "        It then converts it to a numpy array. \n",
    "    \"\"\"\n",
    "    # read parsed image back in 8-bit, black and white mode (L), and resize\n",
    "    img = Image.open('output.png').convert('L').resize((img_width, img_height))\n",
    "    # convert Image object to numpy array\n",
    "    img_numpy = np.array(img)\n",
    "    # reshape image data for use in neural network\n",
    "    img_final = img_numpy.reshape(img_width*img_height).tolist()\n",
    "\n",
    "    return img_final"
   ]
  },
  {
   "cell_type": "code",
   "execution_count": 51,
   "metadata": {},
   "outputs": [],
   "source": [
    "img = transform()"
   ]
  },
  {
   "cell_type": "code",
   "execution_count": 53,
   "metadata": {},
   "outputs": [
    {
     "output_type": "execute_result",
     "data": {
      "text/plain": "[255,\n 255,\n 255,\n 255,\n 255,\n 255,\n 255,\n 255,\n 255,\n 255,\n 255,\n 255,\n 255,\n 247,\n 246,\n 254,\n 255,\n 255,\n 255,\n 255,\n 255,\n 255,\n 255,\n 207,\n 185,\n 203,\n 255,\n 255,\n 255,\n 255,\n 255,\n 255,\n 255,\n 255,\n 243,\n 198,\n 255,\n 255,\n 255,\n 255,\n 255,\n 255,\n 255,\n 255,\n 240,\n 199,\n 255,\n 255,\n 255,\n 255,\n 255,\n 255,\n 255,\n 255,\n 233,\n 205,\n 255,\n 255,\n 255,\n 255,\n 255,\n 255,\n 255,\n 232,\n 144,\n 183,\n 193,\n 192,\n 191,\n 205,\n 255,\n 255,\n 245,\n 186,\n 216,\n 243,\n 250,\n 252,\n 251,\n 244,\n 255,\n 255,\n 255,\n 255,\n 255,\n 255,\n 255,\n 255,\n 255,\n 255,\n 255,\n 255,\n 255,\n 255,\n 255,\n 255,\n 255,\n 255,\n 255,\n 255]"
     },
     "metadata": {},
     "execution_count": 53
    }
   ],
   "source": [
    "img"
   ]
  },
  {
   "cell_type": "code",
   "execution_count": null,
   "metadata": {},
   "outputs": [],
   "source": []
  }
 ],
 "metadata": {
  "language_info": {
   "codemirror_mode": {
    "name": "ipython",
    "version": 3
   },
   "file_extension": ".py",
   "mimetype": "text/x-python",
   "name": "python",
   "nbconvert_exporter": "python",
   "pygments_lexer": "ipython3",
   "version": "3.7.3-final"
  },
  "orig_nbformat": 2,
  "kernelspec": {
   "name": "python3",
   "display_name": "Python 3"
  }
 },
 "nbformat": 4,
 "nbformat_minor": 2
}